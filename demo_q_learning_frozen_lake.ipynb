{
 "cells": [
  {
   "cell_type": "markdown",
   "metadata": {},
   "source": [
    "### Q Learning\n",
    "\n",
    "Q learning is a reinforcement (machine) learning algorithm. It develops a policy to maximize expected rewards based on collected experiences.\n",
    "\n",
    "#### States, actions and rewards\n",
    "\n",
    "The agents task when presented with a given state $S$ is to select an action $A$ resulting in a new state $S_{+1}$. Some of the states might offer the agent feedback in the form of a positive or negative reward. The rewards are evaluated to create the policy.\n",
    "\n",
    "#### Markov learning process\n",
    "\n",
    "A Markov chain is a sequence of events, where the probability of the next event depends only on current state. For the Q Learner the assumption that the environment is a Markov process simplifies the decision finding. The Q Table only needs to assign expected reward values to each action considering only the agents current state.\n",
    "\n",
    "#### Q Table\n",
    "\n",
    "The Q Table is a matrix $Q_{({states} \\times {actions})}$. For a given state $S$ the expected value of each action can be immediately accessed from the Table and the action with the highest value can be chosen."
   ]
  },
  {
   "cell_type": "markdown",
   "metadata": {},
   "source": [
    "### Q Table update rule\n",
    "\n",
    "During training after each action the agent updates the Q table. \n",
    "\n",
    "If from the state $S$ the action $A$ was taken resulting in a new state $S_{+1}$ and the reward $R$ update as follows:\n",
    "\n",
    "$Q_{update}(S, A) = (1 - \\alpha) \\cdot Q_{current}(S, A) + \\alpha \\cdot (R + \\gamma \\cdot max(Q(S_{+1}, A_{i})))$\n",
    "\n",
    "with $\\alpha \\in [0:1]$ the learning rate and $\\gamma \\in [0:1]$ the discount factor for expected future rewards. ($max(Q(S_{+1}, A_{i}))$ is the maximum reward for all possible actions $A_{i}$ in the new state $S_{+1}$)."
   ]
  },
  {
   "cell_type": "markdown",
   "metadata": {},
   "source": [
    "### Imports and Helper functions"
   ]
  },
  {
   "cell_type": "markdown",
   "metadata": {},
   "source": [
    "#### Imports"
   ]
  },
  {
   "cell_type": "code",
   "execution_count": 202,
   "metadata": {},
   "outputs": [],
   "source": [
    "import os\n",
    "from pathlib import Path\n",
    "\n",
    "BASE_DIR = Path(__name__).parent.absolute()\n",
    "os.chdir(BASE_DIR)\n",
    "\n",
    "from maze_agent_access import MazeAgentAccess as Maa\n",
    "from q_learner import QLearner\n",
    "\n",
    "from pprint import pprint\n",
    "\n",
    "import matplotlib.pyplot as plt\n",
    "import pandas as pd\n",
    "import numpy as np"
   ]
  },
  {
   "cell_type": "markdown",
   "metadata": {},
   "source": [
    "#### def flatten(x, y, dim_x):"
   ]
  },
  {
   "cell_type": "code",
   "execution_count": 203,
   "metadata": {},
   "outputs": [],
   "source": [
    "def flatten(x, y, dim_x):\n",
    "    \"\"\" flattens 2 dimensional coordinates into a flat index (state ID)\"\"\"\n",
    "    return x + y * dim_x"
   ]
  },
  {
   "cell_type": "markdown",
   "metadata": {},
   "source": [
    "#### def visualize_qtable(dim_x, dim_y, qtable):"
   ]
  },
  {
   "cell_type": "code",
   "execution_count": 204,
   "metadata": {},
   "outputs": [],
   "source": [
    "def visualize_qtable(dim_x, dim_y, qtable):\n",
    "    \"\"\" reforamts the q-table to get a map like representation. \n",
    "        this is specific to this demo, since the mapping of states and actions\n",
    "        depends on the setting. \n",
    "    \"\"\"\n",
    "    # actions order: left, right, up, down\n",
    "    value_map = [[0.0 for _ in range(dim_x)] for _ in range(dim_y)]\n",
    "    count_map = [[0 for _ in range(dim_x)] for _ in range(dim_y)]\n",
    "\n",
    "    for i in range(dim_x):\n",
    "        for j in range(dim_y):\n",
    "\n",
    "            if(i-1) >= 0:\n",
    "                value_map[j][i-1] += qtable[flatten(i, j, dim_x)][0]\n",
    "                count_map[j][i-1] += 1\n",
    "            if(i+1) < dim_x:\n",
    "                value_map[j][i+1] += qtable[flatten(i, j, dim_x)][1]\n",
    "                count_map[j][i+1] += 1\n",
    "            if(j-1) >= 0:\n",
    "                value_map[j-1][i] += qtable[flatten(i, j, dim_x)][2]\n",
    "                count_map[j-1][i] += 1\n",
    "            if(j+1) < dim_y:\n",
    "                value_map[j+1][i] += qtable[flatten(i, j, dim_x)][3]\n",
    "                count_map[j+1][i] += 1 \n",
    "\n",
    "    for i in range(dim_y):\n",
    "        for j in range(dim_x):\n",
    "            value_map[i][j] = value_map[i][j] / count_map[i][j]\n",
    "\n",
    "    matrix = np.array(value_map)\n",
    "    cmap = plt.get_cmap(\"RdYlGn\")\n",
    "    plt.imshow(matrix, cmap=cmap, interpolation=\"nearest\", aspect=\"auto\")\n",
    "    plt.colorbar()\n",
    "    plt.title(\"Rewards map\")\n",
    "    plt.show()\n",
    "\n",
    "    return value_map"
   ]
  },
  {
   "cell_type": "markdown",
   "metadata": {},
   "source": [
    "#### def run_episodes(num_episodes, max_steps, reward_values, qagent, ql):"
   ]
  },
  {
   "cell_type": "code",
   "execution_count": 205,
   "metadata": {},
   "outputs": [],
   "source": [
    "def run_episodes(num_episodes, max_steps, reward_values, qagent, ql):\n",
    "    for _ in range(num_episodes):\n",
    "        qagent.reset_to_start()\n",
    "        next_episode = False\n",
    "        for _ in range(max_steps):\n",
    "            reward = reward_values[\"REWARD_STEP\"]\n",
    "            state = flatten(qagent.pos_x, qagent.pos_y, qagent.maze.dim_x)\n",
    "            action = ql.epsilon_greedy_action(state)\n",
    "            action_function = qagent.action_space[action]\n",
    "            state_change = action_function()\n",
    "\n",
    "            if not state_change:\n",
    "                reward = reward_values[\"REWARD_WALL\"]\n",
    "            if qagent.is_at_goal:\n",
    "                reward = reward_values[\"REWARD_GOAL\"]\n",
    "                next_episode = True\n",
    "            if qagent.is_in_hole:\n",
    "                reward = reward_values[\"REWARD_HOLE\"]\n",
    "                next_episode = True\n",
    "\n",
    "            new_state = flatten(qagent.pos_x, qagent.pos_y, qagent.maze.dim_x)\n",
    "            ql.update_q(\n",
    "                s=state,\n",
    "                a=action,\n",
    "                s_next=new_state,\n",
    "                reward=reward\n",
    "            )\n",
    "\n",
    "            if next_episode:\n",
    "                break"
   ]
  },
  {
   "cell_type": "markdown",
   "metadata": {},
   "source": [
    "## Frozen Lake\n",
    "\n",
    "A pathfinding setting in a grid based environment. The agent has to learn how to navigate the maze to the exit. The maze has two kinds of obstacles: walls just block the movement into a grid cell, while holes in the ice reset the agent back to the start (\"ending the episode\")\n",
    "\n",
    "In the example below walls are solid, traversable grids are the crossed lines and holes are black. The agent starts at @ (0, 0) and the goal grid G is (4, 4)"
   ]
  },
  {
   "cell_type": "code",
   "execution_count": 206,
   "metadata": {},
   "outputs": [
    {
     "name": "stdout",
     "output_type": "stream",
     "text": [
      "Frozen Lake Example @ FrozenLake_5x5\n",
      "█████████████████████ Y\n",
      "███ @ ─┼──┼──┼──┼─███ 0\n",
      "███─┼─   ─┼─   ─┼─███ 1\n",
      "███─┼──┼──┼──┼──┼─███ 2\n",
      "███─┼─   ███─┼──┼─███ 3\n",
      "███─┼──┼─███─┼─ G ███ 4\n",
      "█████████████████████ ↓\n",
      " X  0  1  2  3  4  → \n"
     ]
    }
   ],
   "source": [
    "example = Maa(name=\"Frozen Lake Example\", maze_foldername=\"FrozenLake_5x5\")\n",
    "print(example.get_maze_view_buffer())"
   ]
  },
  {
   "cell_type": "markdown",
   "metadata": {},
   "source": [
    "### State and Action spaces\n",
    "* States are the grid cells. We use a flat numbering S = x + y * width.\n",
    "* Actions are the possible moves A = {left, right, up, down}\n",
    "\n",
    "The agent has no access to the overview map or the grid representation and must learn and make decisions based solely on experienced outcomes of attempted actions out of a given state."
   ]
  },
  {
   "cell_type": "markdown",
   "metadata": {},
   "source": [
    "## The Learning process"
   ]
  },
  {
   "cell_type": "code",
   "execution_count": 207,
   "metadata": {},
   "outputs": [
    {
     "name": "stdout",
     "output_type": "stream",
     "text": [
      "Quinn @ FrozenLake_12x10\n",
      "██████████████████████████████████████████ Y\n",
      "███─┼──┼──┼──┼──┼──┼──┼──┼──┼──┼──┼──┼─███ 0\n",
      "███─┼──┼──┼──┼──┼──┼──┼──┼──┼──┼──┼──┼─███ 1\n",
      "███─┼──┼──┼─███─┼─█████████─┼──┼──┼──┼─███ 2\n",
      "███ @ ─┼─██████─┼──┼──┼──┼──┼──┼──┼──┼─███ 3\n",
      "███─┼──┼─██████─┼──┼─         ─┼──┼──┼─███ 4\n",
      "███─┼──┼─██████─┼──┼──┼──┼──┼──┼──┼──┼─███ 5\n",
      "███─┼──┼──┼─███─┼─██████─┼──┼──┼─███─┼─███ 6\n",
      "███─┼──┼──┼──┼──┼─███─┼──┼──┼──┼─███ G ███ 7\n",
      "███─┼─   ─┼──┼──┼─███─┼──┼──┼──┼─███─┼─███ 8\n",
      "███─┼─   ─┼──┼──┼─███─┼──┼──┼──┼──┼──┼─███ 9\n",
      "██████████████████████████████████████████ ↓\n",
      " X  0  1  2  3  4  5  6  7  8  9 10 11  → \n"
     ]
    }
   ],
   "source": [
    "qagent = Maa(name=\"Quinn\", maze_foldername=\"FrozenLake_12x10\")\n",
    "print(qagent.get_maze_view_buffer())"
   ]
  },
  {
   "cell_type": "markdown",
   "metadata": {},
   "source": [
    "#### Rewards"
   ]
  },
  {
   "cell_type": "code",
   "execution_count": 208,
   "metadata": {},
   "outputs": [],
   "source": [
    "REWARD_POLICY = {\n",
    "    \"REWARD_HOLE\": -1.0,\n",
    "    \"REWARD_WALL\": -0.75,\n",
    "    \"REWARD_GOAL\": 2.0,\n",
    "    \"REWARD_STEP\": -0.1\n",
    "}\n",
    "\n",
    "# learning passes\n",
    "EPISODES = 1000\n",
    "MAX_STEPS_FACTOR = 10"
   ]
  },
  {
   "cell_type": "markdown",
   "metadata": {},
   "source": [
    "#### Meta parameters\n",
    "* alpha: The learning rate. 1: only beleive the new information, 0: keep old information\n",
    "* gamma: Temporal discount for the vlaue of (expected) future rewards. 0: disregard future rewards\n",
    "* epsilon: Exploration rate for the explore-vs-exploit policy. The chance to randomply explore."
   ]
  },
  {
   "cell_type": "code",
   "execution_count": 209,
   "metadata": {},
   "outputs": [],
   "source": [
    "ALPHA = 0.5  \n",
    "GAMMA = 0.5 \n",
    "EPSILON = 0.5 "
   ]
  },
  {
   "cell_type": "markdown",
   "metadata": {},
   "source": [
    "#### Q-Learner setup"
   ]
  },
  {
   "cell_type": "code",
   "execution_count": 210,
   "metadata": {},
   "outputs": [],
   "source": [
    "dim_x = qagent.maze.dim_x\n",
    "dim_y = qagent.maze.dim_y \n",
    "states = dim_x * dim_y\n",
    "max_steps = states * MAX_STEPS_FACTOR\n",
    "actions = qagent.action_space\n",
    "\n",
    "ql = QLearner(\n",
    "    filename=\"not set\",\n",
    "    states=states,\n",
    "    actions=len(actions),\n",
    "    alpha=ALPHA,\n",
    "    gamma=GAMMA,\n",
    "    epsilon=EPSILON\n",
    ")"
   ]
  },
  {
   "cell_type": "markdown",
   "metadata": {},
   "source": [
    "#### Run learning episodes"
   ]
  },
  {
   "cell_type": "code",
   "execution_count": 211,
   "metadata": {},
   "outputs": [],
   "source": [
    "run_episodes(\n",
    "    num_episodes=EPISODES,\n",
    "    max_steps=max_steps,\n",
    "    reward_values=REWARD_POLICY,\n",
    "    qagent=qagent,\n",
    "    ql=ql\n",
    ")"
   ]
  },
  {
   "cell_type": "markdown",
   "metadata": {},
   "source": [
    "## Results\n",
    "#### Raw Q-Table"
   ]
  },
  {
   "cell_type": "code",
   "execution_count": 212,
   "metadata": {},
   "outputs": [
    {
     "data": {
      "text/html": [
       "<div>\n",
       "<style scoped>\n",
       "    .dataframe tbody tr th:only-of-type {\n",
       "        vertical-align: middle;\n",
       "    }\n",
       "\n",
       "    .dataframe tbody tr th {\n",
       "        vertical-align: top;\n",
       "    }\n",
       "\n",
       "    .dataframe thead th {\n",
       "        text-align: right;\n",
       "    }\n",
       "</style>\n",
       "<table border=\"1\" class=\"dataframe\">\n",
       "  <thead>\n",
       "    <tr style=\"text-align: right;\">\n",
       "      <th></th>\n",
       "      <th>0</th>\n",
       "      <th>1</th>\n",
       "      <th>2</th>\n",
       "      <th>3</th>\n",
       "    </tr>\n",
       "  </thead>\n",
       "  <tbody>\n",
       "    <tr>\n",
       "      <th>0</th>\n",
       "      <td>-0.849991</td>\n",
       "      <td>-0.199983</td>\n",
       "      <td>-0.849989</td>\n",
       "      <td>-0.199983</td>\n",
       "    </tr>\n",
       "    <tr>\n",
       "      <th>1</th>\n",
       "      <td>-0.199992</td>\n",
       "      <td>-0.199966</td>\n",
       "      <td>-0.849983</td>\n",
       "      <td>-0.199966</td>\n",
       "    </tr>\n",
       "    <tr>\n",
       "      <th>2</th>\n",
       "      <td>-0.199983</td>\n",
       "      <td>-0.199933</td>\n",
       "      <td>-0.849966</td>\n",
       "      <td>-0.199933</td>\n",
       "    </tr>\n",
       "    <tr>\n",
       "      <th>3</th>\n",
       "      <td>-0.199966</td>\n",
       "      <td>-0.199866</td>\n",
       "      <td>-0.849933</td>\n",
       "      <td>-0.199866</td>\n",
       "    </tr>\n",
       "    <tr>\n",
       "      <th>4</th>\n",
       "      <td>-0.199933</td>\n",
       "      <td>-0.199731</td>\n",
       "      <td>-0.849866</td>\n",
       "      <td>-0.199731</td>\n",
       "    </tr>\n",
       "    <tr>\n",
       "      <th>...</th>\n",
       "      <td>...</td>\n",
       "      <td>...</td>\n",
       "      <td>...</td>\n",
       "      <td>...</td>\n",
       "    </tr>\n",
       "    <tr>\n",
       "      <th>115</th>\n",
       "      <td>-0.184959</td>\n",
       "      <td>-0.169965</td>\n",
       "      <td>-0.175372</td>\n",
       "      <td>-0.767383</td>\n",
       "    </tr>\n",
       "    <tr>\n",
       "      <th>116</th>\n",
       "      <td>-0.160516</td>\n",
       "      <td>-0.120233</td>\n",
       "      <td>-0.168744</td>\n",
       "      <td>-0.790332</td>\n",
       "    </tr>\n",
       "    <tr>\n",
       "      <th>117</th>\n",
       "      <td>-0.161792</td>\n",
       "      <td>0.013855</td>\n",
       "      <td>-0.142773</td>\n",
       "      <td>-0.776105</td>\n",
       "    </tr>\n",
       "    <tr>\n",
       "      <th>118</th>\n",
       "      <td>-0.131250</td>\n",
       "      <td>0.305811</td>\n",
       "      <td>-0.562500</td>\n",
       "      <td>-0.492725</td>\n",
       "    </tr>\n",
       "    <tr>\n",
       "      <th>119</th>\n",
       "      <td>-0.050000</td>\n",
       "      <td>-0.346240</td>\n",
       "      <td>0.880566</td>\n",
       "      <td>-0.342041</td>\n",
       "    </tr>\n",
       "  </tbody>\n",
       "</table>\n",
       "<p>120 rows × 4 columns</p>\n",
       "</div>"
      ],
      "text/plain": [
       "            0         1         2         3\n",
       "0   -0.849991 -0.199983 -0.849989 -0.199983\n",
       "1   -0.199992 -0.199966 -0.849983 -0.199966\n",
       "2   -0.199983 -0.199933 -0.849966 -0.199933\n",
       "3   -0.199966 -0.199866 -0.849933 -0.199866\n",
       "4   -0.199933 -0.199731 -0.849866 -0.199731\n",
       "..        ...       ...       ...       ...\n",
       "115 -0.184959 -0.169965 -0.175372 -0.767383\n",
       "116 -0.160516 -0.120233 -0.168744 -0.790332\n",
       "117 -0.161792  0.013855 -0.142773 -0.776105\n",
       "118 -0.131250  0.305811 -0.562500 -0.492725\n",
       "119 -0.050000 -0.346240  0.880566 -0.342041\n",
       "\n",
       "[120 rows x 4 columns]"
      ]
     },
     "execution_count": 212,
     "metadata": {},
     "output_type": "execute_result"
    }
   ],
   "source": [
    "q_matrix = pd.DataFrame(ql.qtable)\n",
    "q_matrix"
   ]
  },
  {
   "cell_type": "markdown",
   "metadata": {},
   "source": [
    "#### Use the learned policy to navigate the maze"
   ]
  },
  {
   "cell_type": "code",
   "execution_count": 213,
   "metadata": {},
   "outputs": [
    {
     "name": "stdout",
     "output_type": "stream",
     "text": [
      "Quinn @ FrozenLake_12x10\n",
      "██████████████████████████████████████████ Y\n",
      "███─┼──┼──┼──┼─ @  @  @ ─┼──┼─ @  @ ─┼─███ 0\n",
      "███ @  @  @  @  @ ─┼─ @  @  @  @  @ ─┼─███ 1\n",
      "███ @  @ ─┼─███ @ █████████ @  @  @ ─┼─███ 2\n",
      "███ @  @ ██████─┼──┼──┼──┼─ @  @  @ ─┼─███ 3\n",
      "███─┼──┼─██████─┼──┼─          @  @ ─┼─███ 4\n",
      "███─┼──┼─██████─┼──┼──┼──┼──┼─ @  @  @ ███ 5\n",
      "███─┼──┼──┼─███─┼─██████─┼──┼─ @ ███ @ ███ 6\n",
      "███─┼──┼──┼──┼──┼─███─┼──┼──┼──┼─███ @ ███ 7\n",
      "███─┼─   ─┼──┼──┼─███─┼──┼──┼──┼─███─┼─███ 8\n",
      "███─┼─   ─┼──┼──┼─███─┼──┼──┼──┼──┼──┼─███ 9\n",
      "██████████████████████████████████████████ ↓\n",
      " X  0  1  2  3  4  5  6  7  8  9 10 11  → \n"
     ]
    }
   ],
   "source": [
    " # qagent.maze.start=(4,4)\n",
    "\n",
    "qagent.reset_to_start()\n",
    "ql.epsilon = 0\n",
    "qagent.draw_trace = True\n",
    "\n",
    "while not qagent.is_at_goal:\n",
    "    state = flatten(qagent.pos_x, qagent.pos_y, dim_x)\n",
    "    action_fn = actions[ql.epsilon_greedy_action(state)]\n",
    "    action_fn()\n",
    "    if qagent.is_in_hole:\n",
    "        qagent.reset_to_start()\n",
    "\n",
    "print(qagent.get_maze_view_buffer())"
   ]
  },
  {
   "cell_type": "markdown",
   "metadata": {},
   "source": [
    "#### Q-Weights visualized\n",
    "\n",
    "The chart shows the average reward the agent is expecting to receive by entering a given grid cell. The holes are clearly identified with the deep red and the walls in orange. A gradient of increasing rewards is seen around the goal grid."
   ]
  },
  {
   "cell_type": "code",
   "execution_count": 214,
   "metadata": {},
   "outputs": [
    {
     "data": {
      "image/png": "[encoded data removed]",
      "text/plain": [
       "<Figure size 640x480 with 2 Axes>"
      ]
     },
     "metadata": {},
     "output_type": "display_data"
    }
   ],
   "source": [
    "_ = visualize_qtable(dim_x, dim_y, ql.qtable)"
   ]
  },
  {
   "cell_type": "markdown",
   "metadata": {},
   "source": [
    "#### A different maze"
   ]
  },
  {
   "cell_type": "code",
   "execution_count": 215,
   "metadata": {},
   "outputs": [
    {
     "name": "stdout",
     "output_type": "stream",
     "text": [
      "Quinn @ FrozenLake_5x5\n",
      "█████████████████████ Y\n",
      "███ @ ─┼──┼──┼──┼─███ 0\n",
      "███─┼─   ─┼─   ─┼─███ 1\n",
      "███─┼──┼──┼──┼──┼─███ 2\n",
      "███─┼─   ███─┼──┼─███ 3\n",
      "███─┼──┼─███─┼─ G ███ 4\n",
      "█████████████████████ ↓\n",
      " X  0  1  2  3  4  → \n"
     ]
    }
   ],
   "source": [
    "qagent = Maa(name=\"Quinn\", maze_foldername=\"FrozenLake_5x5\")\n",
    "print(qagent.get_maze_view_buffer())"
   ]
  },
  {
   "cell_type": "code",
   "execution_count": 216,
   "metadata": {},
   "outputs": [
    {
     "data": {
      "image/png": "[encoded data removed]",
      "text/plain": [
       "<Figure size 640x480 with 2 Axes>"
      ]
     },
     "metadata": {},
     "output_type": "display_data"
    }
   ],
   "source": [
    "dim_x = qagent.maze.dim_x\n",
    "dim_y = qagent.maze.dim_y \n",
    "states = dim_x * dim_y\n",
    "max_steps = states * MAX_STEPS_FACTOR\n",
    "actions = qagent.action_space\n",
    "\n",
    "ql = QLearner(\n",
    "    filename=\"not set\",\n",
    "    states=states,\n",
    "    actions=len(actions),\n",
    "    alpha=ALPHA,\n",
    "    gamma=GAMMA,\n",
    "    epsilon=EPSILON\n",
    ")\n",
    "\n",
    "run_episodes(\n",
    "    num_episodes=EPISODES,\n",
    "    max_steps=max_steps,\n",
    "    reward_values=REWARD_POLICY,\n",
    "    qagent=qagent,\n",
    "    ql=ql\n",
    ")\n",
    "\n",
    "_ = visualize_qtable(dim_x, dim_y, ql.qtable)"
   ]
  },
  {
   "cell_type": "markdown",
   "metadata": {},
   "source": [
    "## Extras\n",
    "\n",
    "#### Linear Algebra notation\n",
    "Consider the input state to be a vector of features: \n",
    "\n",
    "$S = (S_{0}, S_{1}, S_{2} \\cdots S_{i})$.\n",
    "\n",
    "In the Frozen lake example above, where each state is encoded to be unqiely identified as it's own feature, the vector would be \n",
    "\n",
    "$S = (0, 0 \\cdots S_{k}=1 \\cdots 0)$ \n",
    "showing $1$ for the grid position $k$ and $0$ otherwise, but one might imagine more cases where this would not be the case.\n",
    "\n",
    "If we write the current Q-Table as a matrix, we can consider a different notation for the policy selection process. \n",
    "\n",
    "The multiplication:\n",
    "\n",
    "$\\begin{bmatrix} Q_{S_{0} -> A_{0}} & Q_{S_{1} -> A_{0}} & \\cdots & Q_{S_{i} -> A_{0}} \\\\ \n",
    "\\vdots & \\vdots & \\cdots & \\vdots \\\\ \n",
    "Q_{S_{0} -> A_{j}} & Q_{S_{1} -> A_{j}} & \\cdots & Q_{S_{i} -> A_{j}} \\end{bmatrix} \\cdot \n",
    "\\begin{bmatrix} S_{0} \\\\ S_{1} \\\\ \\vdots \\\\ S_{i} \\end{bmatrix} = \n",
    "\\begin{bmatrix} A_{0}, A_{1} \\cdots A_{j} \\end{bmatrix}$\n",
    "\n",
    "yields a vector $A$ containing the weights (the expected rewards according to the policy) for each action $A_{j}$ given the state $S$\n"
   ]
  },
  {
   "cell_type": "markdown",
   "metadata": {},
   "source": [
    "#### Perceptron\n",
    "\n",
    "A perceptron is a simple, basic unit for artificial neural networks. It will take a input vector $S = (S_{0}, S_{1},..., S_{i})$ of output signals and return a single output signal in the form of \n",
    "\n",
    "$A = \\sum \\limits _{k=0} ^{i} w_{k} \\cdot S_{k} + b$ wehre $w_{k}$ are the weights for the $r-th$ input and $b$ is tha activation bias. The weight vector $W$ and bias $b$ will be learned during training.\n",
    "\n",
    "Typically used for binary classification problems the output signal might be represented in a binary fashion by applying a $sign$ function:\n",
    "\n",
    "$output = \\begin{cases} 1 & \\text{if } \\text{weighted sum} \\geq 0 \\\\ 0 & \\text{otherwise} \\end{cases}$"
   ]
  },
  {
   "cell_type": "markdown",
   "metadata": {},
   "source": [
    "![perceptron](perceptron.jpg)"
   ]
  },
  {
   "cell_type": "markdown",
   "metadata": {},
   "source": [
    "#### Perceptron learning rule\n",
    "\n",
    "During training a prediction made by the perceptron will be compared with the known classification from training data. If an error was made the weights $W$ and bias $b$ will be updated (discounted by the learning rate $\\alpha$):\n",
    "\n",
    "$w_{i} = w_{i} + \\alpha (target - output) \\cdot x_{i}$\n",
    "\n",
    "$b = b + \\alpha (target - output)$\n"
   ]
  },
  {
   "cell_type": "markdown",
   "metadata": {},
   "source": [
    "![layer](perceptron_one_layer.jpg)"
   ]
  },
  {
   "cell_type": "markdown",
   "metadata": {},
   "source": [
    "#### Single layer of perceptrons as a matix\n",
    "\n",
    "Consider now a single layer of $j$ perceptrons, all taking the same inputs $S$ and each outputting a signal $A_{j}$ (which we might, for example interpret as the confidence, that the action $A_{j}$ should be taken, given the input state $S$).\n",
    "\n",
    "Each perceptron will have it's own weight vektor $W_{j}$ forming (row-wise) the matrix:\n",
    "\n",
    "$ W = \\begin{bmatrix} W_{0, 0} & W_{0, 1} & \\cdots & W_{0, i} \\\\ \\vdots & \\vdots & \\cdots & \\vdots \\\\ W_{j, 0} & W_{j, 1} & \\cdots & W_{j, i} \\end{bmatrix}$\n",
    "\n",
    "while the vector $B = [ B_{0}, B_{1} \\cdots B_{j} ]$ holds the bias for each output.\n",
    "\n",
    "With that we can now for a set of inputs $S = [ S_{0}, S_{1} \\cdots S_{i} ]$ evaluate the entire layer at once:\n",
    "\n",
    "$ W \\cdot S + B = \\begin{bmatrix} W_{0, 0} & W_{0, 1} & \\cdots & W_{0, i} \\\\ \n",
    "\\vdots & \\vdots & \\cdots & \\vdots \\\\ \n",
    "W_{j, 0} & W_{j, 1} & \\cdots & W_{j, i} \\end{bmatrix} \\cdot\n",
    "\\begin{bmatrix} S_{0} \\\\ S_{1} \\\\ \\vdots \\\\ S_{i} \\end{bmatrix} +\n",
    "[ B_{0}, B_{1} \\cdots B_{j} ] =\n",
    "[ A_{0}, A_{1} \\cdots A_{j} ]\n",
    "$\n",
    "\n",
    "\n"
   ]
  }
 ],
 "metadata": {
  "kernelspec": {
   "display_name": "Python 3.11.5 64-bit",
   "language": "python",
   "name": "python3"
  },
  "language_info": {
   "codemirror_mode": {
    "name": "ipython",
    "version": 3
   },
   "file_extension": ".py",
   "mimetype": "text/x-python",
   "name": "python",
   "nbconvert_exporter": "python",
   "pygments_lexer": "ipython3",
   "version": "3.11.5"
  },
  "orig_nbformat": 4,
  "vscode": {
   "interpreter": {
    "hash": "9ccc6a538a0da06e903987474074493caf94daa74ed2a90c8f8989e97d2dea89"
   }
  }
 },
 "nbformat": 4,
 "nbformat_minor": 2
}
